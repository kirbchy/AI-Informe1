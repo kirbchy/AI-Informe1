{
 "cells": [
  {
   "cell_type": "markdown",
   "id": "9573a797",
   "metadata": {},
   "source": [
    "#### Solution Third Exercise (Metro with Iterative Deepening Search Algorithm)"
   ]
  }
 ],
 "metadata": {
  "language_info": {
   "name": "python"
  }
 },
 "nbformat": 4,
 "nbformat_minor": 5
}
