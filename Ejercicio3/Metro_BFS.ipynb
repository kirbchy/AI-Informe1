{
 "cells": [
  {
   "cell_type": "markdown",
   "id": "66bb6087",
   "metadata": {},
   "source": [
    "#### Solution Third Exercise (Metro with Best First Search Algorithm)"
   ]
  },
  {
   "cell_type": "code",
   "execution_count": null,
   "id": "2418c9a2",
   "metadata": {},
   "outputs": [],
   "source": [
    "from collections import deque"
   ]
  },
  {
   "cell_type": "code",
   "execution_count": null,
   "id": "1dd26cec",
   "metadata": {},
   "outputs": [],
   "source": [
    "class Problem: \n",
    "    def __init__(self, initial, goal, graph):\n",
    "        self.initial = initial\n",
    "        self.goal = goal\n",
    "        self.graph = graph\n",
    "    \n",
    "    def actions(self, state)\n",
    "        return self.graph.get(state, [])\n",
    "    \n",
    "    def goal_test(self, state):\n",
    "        return state == self.goal\n",
    "    "
   ]
  },
  {
   "cell_type": "code",
   "execution_count": null,
   "id": "2ab8a3ca",
   "metadata": {},
   "outputs": [],
   "source": [
    "graph = {\n",
    "    'A': ['B','C'],\n",
    "    'B': ['A','D','E'],   \n",
    "    'C': ['A','F'], \n",
    "    'D': ['B','G'], \n",
    "    'E': ['B','H','I'], \n",
    "    'F': ['C','J'], \n",
    "    'G': ['D']\n",
    "    'H': ['E'], \n",
    "    'I': ['E','J'], \n",
    "    'J': ['F','I'],     \n",
    "}"
   ]
  }
 ],
 "metadata": {
  "language_info": {
   "name": "python"
  }
 },
 "nbformat": 4,
 "nbformat_minor": 5
}
