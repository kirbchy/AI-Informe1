{
 "cells": [
  {
   "cell_type": "markdown",
   "id": "66bb6087",
   "metadata": {},
   "source": [
    "#### Solution Third Exercise (Metro with Best First Search Algorithm)"
   ]
  }
 ],
 "metadata": {
  "language_info": {
   "name": "python"
  }
 },
 "nbformat": 4,
 "nbformat_minor": 5
}
