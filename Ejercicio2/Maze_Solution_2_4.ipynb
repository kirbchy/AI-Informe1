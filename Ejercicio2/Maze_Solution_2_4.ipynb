{
 "cells": [
  {
   "cell_type": "code",
   "execution_count": null,
   "id": "5bed679c",
   "metadata": {},
   "outputs": [],
   "source": [
    "import heapq "
   ]
  },
  {
   "cell_type": "code",
   "execution_count": null,
   "id": "868e5e77",
   "metadata": {},
   "outputs": [],
   "source": [
    "class Node:\n",
    "    def __init__(self, position, parent=None, path_cost=0, action=None): \n",
    "        self.position = position\n",
    "        self.parent = parent\n",
    "        self.path_cost = path_cost\n",
    "        self.action = action\n",
    "\n",
    "    def __lt__(self, other):\n",
    "        return self.path_cost < other.path_cost\n",
    "\n",
    "class Problem:\n",
    "    def __init__(self, start, goal, actions):\n",
    "        self.initial = start\n",
    "        self.goal = goal\n",
    "        self.actions = actions"
   ]
  },
  {
   "cell_type": "code",
   "execution_count": null,
   "id": "8a5617f6",
   "metadata": {},
   "outputs": [],
   "source": [
    "def find_exit(maze):\n",
    "    start = (1, 1) \n",
    "    goal = (1, 6)    \n",
    "    \n",
    "    actions = {\n",
    "        (-1, 0): \"Up\",\n",
    "        (1, 0): \"Down\",\n",
    "        (0, -1): \"Left\",\n",
    "        (0, 1): \"Right\"\n",
    "    }\n",
    "\n",
    "    # Costos por tipo de celda\n",
    "    terrain_cost = {\n",
    "        \" \": 1,  # camino normal\n",
    "        \"~\": 3,  # agua, más costoso\n",
    "        \"S\": 1,\n",
    "        \"E\": 1\n",
    "    }\n",
    "\n",
    "    problem = Problem(start, goal, actions)\n",
    "\n",
    "    def manhatan_distance(pos, goal):\n",
    "        return abs(pos[0] - goal[0]) + abs(pos[1] - goal[1])  \n",
    "\n",
    "    def get_neighbors(pos):\n",
    "        neighbors = [] \n",
    "        for move in problem.actions.keys(): \n",
    "            neighbor = (pos[0] + move[0], pos[1] + move[1])\n",
    "            if maze[neighbor[0]][neighbor[1]] != \"#\": \n",
    "                neighbors.append((neighbor, problem.actions[move]))  \n",
    "        return neighbors\n",
    "\n",
    "    start_node = Node(start, path_cost=0, action=None)  \n",
    "    frontier = [(manhatan_distance(start, goal), start_node)]\n",
    "    heapq.heapify(frontier) \n",
    "    reached = {start: start_node}\n",
    "\n",
    "    while frontier:\n",
    "        _, node = heapq.heappop(frontier)\n",
    "        if node.position == goal:\n",
    "            return reconstruct_path(node)\n",
    "\n",
    "        for neighbor, move in get_neighbors(node.position):\n",
    "            new_cost = node.path_cost + terrain_cost[maze[neighbor[0]][neighbor[1]]]\n",
    "            if neighbor not in reached or new_cost < reached[neighbor].path_cost:\n",
    "                reached[neighbor] = Node(neighbor, parent=node, path_cost=new_cost, action=move)\n",
    "                priority = new_cost + manhatan_distance(neighbor, goal)\n",
    "                heapq.heappush(frontier, (priority, reached[neighbor]))\n",
    "\n",
    "    return None  "
   ]
  },
  {
   "cell_type": "code",
   "execution_count": null,
   "id": "f251899e",
   "metadata": {},
   "outputs": [],
   "source": [
    "def reconstruct_path(node):  \n",
    "    path = []\n",
    "    steps = []\n",
    "    while node:\n",
    "        path.append(node.position)\n",
    "        steps.append(node.action)\n",
    "        node = node.parent\n",
    "\n",
    "    path.reverse()\n",
    "    steps.reverse()\n",
    "    steps = steps[1:]\n",
    "    return path, steps"
   ]
  },
  {
   "cell_type": "code",
   "execution_count": null,
   "id": "7864f180",
   "metadata": {},
   "outputs": [],
   "source": [
    "# Nuevo laberinto 10x10\n",
    "maze = [\n",
    "    [\"#\", \"#\", \"#\", \"#\", \"#\", \"#\", \"#\", \"#\", \"#\", \"#\"],\n",
    "    [\"#\", \"S\", \" \", \" \", \"~\", \" \", \" \", \" \", \" \", \"#\"],\n",
    "    [\"#\", \" \", \"#\", \"#\", \"~\", \"#\", \"#\", \"#\", \" \", \"#\"],\n",
    "    [\"#\", \" \", \"#\", \" \", \"~\", \" \", \" \", \"#\", \" \", \"#\"],\n",
    "    [\"#\", \" \", \"#\", \" \", \"#\", \"#\", \" \", \"#\", \" \", \"#\"],\n",
    "    [\"#\", \" \", \" \", \" \", \"#\", \" \", \" \", \"#\", \" \", \"#\"],\n",
    "    [\"#\", \"#\", \"#\", \" \", \"#\", \" \", \"#\", \"#\", \" \", \"#\"],\n",
    "    [\"#\", \"E\", \"#\", \" \", \"~\", \" \", \" \", \" \", \" \", \"#\"],\n",
    "    [\"#\", \" \", \" \", \" \", \"~\", \"#\", \"#\", \"#\", \" \", \"#\"],\n",
    "    [\"#\", \"#\", \"#\", \"#\", \"#\", \"#\", \"#\", \"#\", \"#\", \"#\"]\n",
    "]\n",
    "\n",
    "path, steps = find_exit(maze)\n",
    "print(\"Path to exit:\", path)\n",
    "print(\"Steps to exit:\", steps)"
   ]
  }
 ],
 "metadata": {
  "kernelspec": {
   "display_name": "Python 3",
   "language": "python",
   "name": "python3"
  },
  "language_info": {
   "name": "python",
   "version": "3.13.3"
  }
 },
 "nbformat": 4,
 "nbformat_minor": 5
}
